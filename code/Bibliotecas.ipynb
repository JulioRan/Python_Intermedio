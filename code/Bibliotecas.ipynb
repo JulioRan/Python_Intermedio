{
 "cells": [
  {
   "cell_type": "markdown",
   "metadata": {},
   "source": [
    "# NumPy"
   ]
  },
  {
   "cell_type": "markdown",
   "metadata": {},
   "source": [
    "### Introducción"
   ]
  },
  {
   "cell_type": "code",
   "execution_count": 108,
   "metadata": {},
   "outputs": [],
   "source": [
    "import numpy as np"
   ]
  },
  {
   "cell_type": "code",
   "execution_count": 109,
   "metadata": {},
   "outputs": [
    {
     "data": {
      "text/plain": [
       "array([1, 2, 3])"
      ]
     },
     "execution_count": 109,
     "metadata": {},
     "output_type": "execute_result"
    }
   ],
   "source": [
    "arr = np.array([1,2,3])\n",
    "\n",
    "arr"
   ]
  },
  {
   "cell_type": "code",
   "execution_count": 110,
   "metadata": {},
   "outputs": [
    {
     "data": {
      "text/plain": [
       "array([[1, 2, 3],\n",
       "       [1, 6, 3]])"
      ]
     },
     "execution_count": 110,
     "metadata": {},
     "output_type": "execute_result"
    }
   ],
   "source": [
    "arr = np.array(([1,2,3] , [1,6,3]))\n",
    "arr"
   ]
  },
  {
   "cell_type": "code",
   "execution_count": 111,
   "metadata": {},
   "outputs": [
    {
     "data": {
      "text/plain": [
       "array([[1, 2, 3],\n",
       "       [1, 6, 3],\n",
       "       [2, 3, 5]])"
      ]
     },
     "execution_count": 111,
     "metadata": {},
     "output_type": "execute_result"
    }
   ],
   "source": [
    "arr = np.array(([1,2,3] , [1,6,3], [2,3,5]))\n",
    "arr"
   ]
  },
  {
   "cell_type": "code",
   "execution_count": 112,
   "metadata": {},
   "outputs": [
    {
     "name": "stdout",
     "output_type": "stream",
     "text": [
      "3\n",
      "2\n"
     ]
    }
   ],
   "source": [
    "arr = np.array([1,2,3], ndmin=3)\n",
    "print(arr.ndim)\n",
    "\n",
    "print(arr[0][0][1])"
   ]
  },
  {
   "cell_type": "code",
   "execution_count": 113,
   "metadata": {},
   "outputs": [
    {
     "data": {
      "text/plain": [
       "array([[1., 1.],\n",
       "       [1., 1.]])"
      ]
     },
     "execution_count": 113,
     "metadata": {},
     "output_type": "execute_result"
    }
   ],
   "source": [
    "arr = np.zeros((2,4))\n",
    "arr1 = np.ones((2,2))\n",
    "arr1"
   ]
  },
  {
   "cell_type": "code",
   "execution_count": 114,
   "metadata": {},
   "outputs": [
    {
     "data": {
      "text/plain": [
       "array([[0.41820997, 0.03132061, 0.90013387],\n",
       "       [0.76647787, 0.14965882, 0.75672675],\n",
       "       [0.72583258, 0.55604728, 0.57051947]])"
      ]
     },
     "execution_count": 114,
     "metadata": {},
     "output_type": "execute_result"
    }
   ],
   "source": [
    "arr = np.random.rand(3,3)\n",
    "arr"
   ]
  },
  {
   "cell_type": "code",
   "execution_count": 115,
   "metadata": {},
   "outputs": [
    {
     "data": {
      "text/plain": [
       "array([3, 6, 8])"
      ]
     },
     "execution_count": 115,
     "metadata": {},
     "output_type": "execute_result"
    }
   ],
   "source": [
    "arr1 = [1,2,3]\n",
    "arr2 = [2,4,5]\n",
    "\n",
    "arr = np.add(arr1, arr2)\n",
    "#np.substract para resta\n",
    "#np.multiply para multi\n",
    "#np.divide para división\n",
    "\n",
    "\n",
    "arr"
   ]
  },
  {
   "cell_type": "markdown",
   "metadata": {},
   "source": [
    "### Probabilidad"
   ]
  },
  {
   "cell_type": "code",
   "execution_count": 116,
   "metadata": {},
   "outputs": [],
   "source": [
    "#Tenemos comandos de numpy\n",
    "#mean, max, min, median"
   ]
  },
  {
   "cell_type": "markdown",
   "metadata": {},
   "source": [
    "### Indexación"
   ]
  },
  {
   "cell_type": "code",
   "execution_count": 117,
   "metadata": {},
   "outputs": [
    {
     "name": "stdout",
     "output_type": "stream",
     "text": [
      "[[0.80354484 0.89265592 0.57689613]\n",
      " [0.72716538 0.21425312 0.58281466]\n",
      " [0.71494935 0.37762395 0.68104594]]\n",
      "0.89265591950127\n",
      "[0.71494935 0.37762395 0.68104594]\n"
     ]
    }
   ],
   "source": [
    "arr = np.random.rand(3,3)\n",
    "print(arr)\n",
    "print(arr[0,1])\n",
    "print(arr[-1])"
   ]
  },
  {
   "cell_type": "code",
   "execution_count": null,
   "metadata": {},
   "outputs": [],
   "source": []
  },
  {
   "cell_type": "markdown",
   "metadata": {},
   "source": [
    "### Slicing "
   ]
  },
  {
   "cell_type": "code",
   "execution_count": 118,
   "metadata": {},
   "outputs": [
    {
     "name": "stdout",
     "output_type": "stream",
     "text": [
      "[1, 2, 3, 4, 5]\n",
      "[2, 4]\n"
     ]
    }
   ],
   "source": [
    "arr = [1,2,3,4,5,6,7]\n",
    "print(arr[0:5])\n",
    "print(arr[1:5:2])"
   ]
  },
  {
   "cell_type": "markdown",
   "metadata": {},
   "source": [
    "### Tipos de datos"
   ]
  },
  {
   "cell_type": "code",
   "execution_count": 119,
   "metadata": {},
   "outputs": [
    {
     "name": "stdout",
     "output_type": "stream",
     "text": [
      "int32\n",
      "<U1\n"
     ]
    }
   ],
   "source": [
    "arr = np.array([1,2,3])\n",
    "arr1 = np.array([\"a\" , \"b\"])\n",
    "\n",
    "print(arr.dtype)\n",
    "print(arr1.dtype)"
   ]
  },
  {
   "cell_type": "code",
   "execution_count": 120,
   "metadata": {},
   "outputs": [
    {
     "name": "stdout",
     "output_type": "stream",
     "text": [
      "[1 2 3]\n",
      "int32\n"
     ]
    }
   ],
   "source": [
    "arr = np.array([1,2,3] , dtype='i')\n",
    "print(arr)\n",
    "print(arr.dtype)\n",
    "\n",
    "# 'i' integer\n",
    "# 'b' boolenao\n",
    "# 'f' flotante\n",
    "# 'M' datatime\n",
    "# 'O' objeto\n",
    "# 'S' string"
   ]
  },
  {
   "cell_type": "code",
   "execution_count": 121,
   "metadata": {},
   "outputs": [
    {
     "name": "stdout",
     "output_type": "stream",
     "text": [
      "[1.1 1.6 3.2]\n",
      "[1 1 3]\n"
     ]
    }
   ],
   "source": [
    "arr = np.array([1.1, 1.6, 3.2])\n",
    "print(arr)\n",
    "\n",
    "nuevo_arr = arr.astype('i')\n",
    "print(nuevo_arr)\n"
   ]
  },
  {
   "cell_type": "markdown",
   "metadata": {},
   "source": [
    "### Copy vs View"
   ]
  },
  {
   "cell_type": "code",
   "execution_count": 122,
   "metadata": {},
   "outputs": [
    {
     "name": "stdout",
     "output_type": "stream",
     "text": [
      "arreglo [1 2 3]\n",
      "x [1 2 3]\n",
      "y [1 2 3]\n",
      "arreglo [0 2 3]\n",
      "x [1 2 3]\n",
      "y [0 2 3]\n"
     ]
    }
   ],
   "source": [
    "arr = np.array([1,2,3])\n",
    "\n",
    "x = arr.copy()\n",
    "y = arr.view()\n",
    "\n",
    "print('arreglo' ,arr)\n",
    "print('x', x)\n",
    "print('y', y)\n",
    "\n",
    "arr[0] = 0\n",
    "\n",
    "print('arreglo' ,arr)\n",
    "print('x', x)\n",
    "print('y', y)"
   ]
  },
  {
   "cell_type": "markdown",
   "metadata": {},
   "source": [
    "### Concatenar"
   ]
  },
  {
   "cell_type": "code",
   "execution_count": 123,
   "metadata": {},
   "outputs": [
    {
     "data": {
      "text/plain": [
       "array([1, 2, 2, 5])"
      ]
     },
     "execution_count": 123,
     "metadata": {},
     "output_type": "execute_result"
    }
   ],
   "source": [
    "arr1 = np.array([1,2])\n",
    "\n",
    "arr2 = np.array([2,5])\n",
    "\n",
    "arr3 = np.concatenate((arr1, arr2))\n",
    "arr3"
   ]
  },
  {
   "cell_type": "markdown",
   "metadata": {},
   "source": [
    "### Búsqueda"
   ]
  },
  {
   "cell_type": "code",
   "execution_count": 124,
   "metadata": {},
   "outputs": [
    {
     "name": "stdout",
     "output_type": "stream",
     "text": [
      "(array([4, 5, 7], dtype=int64),)\n"
     ]
    }
   ],
   "source": [
    "arr = np.array([1,1,2,3,5,5,6,5,2,1])\n",
    "x = np.where(arr == 5)\n",
    "\n",
    "print(x)"
   ]
  },
  {
   "cell_type": "markdown",
   "metadata": {},
   "source": [
    "### Code"
   ]
  },
  {
   "cell_type": "code",
   "execution_count": 125,
   "metadata": {},
   "outputs": [
    {
     "name": "stdout",
     "output_type": "stream",
     "text": [
      "[2 5 7 3 4]\n",
      "[2 3 4 5 7]\n"
     ]
    }
   ],
   "source": [
    "arr = np.array([2,5,7,3,4])\n",
    "\n",
    "x = np.sort(arr)\n",
    "\n",
    "print(arr)\n",
    "print(x)"
   ]
  },
  {
   "cell_type": "markdown",
   "metadata": {},
   "source": [
    "# Pandas"
   ]
  },
  {
   "cell_type": "markdown",
   "metadata": {},
   "source": [
    "### Introducción"
   ]
  },
  {
   "cell_type": "code",
   "execution_count": 126,
   "metadata": {},
   "outputs": [],
   "source": [
    "import pandas as pd"
   ]
  },
  {
   "cell_type": "code",
   "execution_count": 127,
   "metadata": {},
   "outputs": [
    {
     "name": "stdout",
     "output_type": "stream",
     "text": [
      "0    10\n",
      "1     2\n",
      "2    45\n",
      "dtype: int32\n",
      "10\n"
     ]
    }
   ],
   "source": [
    "a = np.array([10,2,45])\n",
    "series = pd.Series(a)\n",
    "\n",
    "print(series)\n",
    "print(series[0])"
   ]
  },
  {
   "cell_type": "code",
   "execution_count": 128,
   "metadata": {},
   "outputs": [
    {
     "data": {
      "text/plain": [
       "x    10\n",
       "y     2\n",
       "z    45\n",
       "dtype: int32"
      ]
     },
     "execution_count": 128,
     "metadata": {},
     "output_type": "execute_result"
    }
   ],
   "source": [
    "series = pd.Series(a, index = ['x', \"y\", \"z\"])\n",
    "series"
   ]
  },
  {
   "cell_type": "code",
   "execution_count": 129,
   "metadata": {},
   "outputs": [
    {
     "name": "stdout",
     "output_type": "stream",
     "text": [
      "{'Lunes': 440, 'Martes': 620, 'Miércoles': 1000}\n",
      "Lunes         440\n",
      "Martes        620\n",
      "Miércoles    1000\n",
      "dtype: int64\n"
     ]
    }
   ],
   "source": [
    "pasos = {\n",
    "    'Lunes' : 440,\n",
    "    'Martes' :620,\n",
    "    'Miércoles' : 1000\n",
    "}\n",
    "\n",
    "print(pasos)\n",
    "\n",
    "series = pd.Series(pasos)\n",
    "print(series)"
   ]
  },
  {
   "cell_type": "code",
   "execution_count": 130,
   "metadata": {},
   "outputs": [
    {
     "name": "stdout",
     "output_type": "stream",
     "text": [
      "Lunes         440\n",
      "Miércoles    1000\n",
      "dtype: int64\n"
     ]
    }
   ],
   "source": [
    "series = pd.Series(pasos, index = ['Lunes', 'Miércoles'])\n",
    "\n",
    "print(series)"
   ]
  },
  {
   "cell_type": "markdown",
   "metadata": {},
   "source": [
    "### Dataframe"
   ]
  },
  {
   "cell_type": "code",
   "execution_count": 131,
   "metadata": {},
   "outputs": [
    {
     "name": "stdout",
     "output_type": "stream",
     "text": [
      "  operador  N° de reloj\n",
      "0     John          101\n",
      "1     Juan          202\n",
      "2   Manuel          303\n"
     ]
    }
   ],
   "source": [
    "di = {\n",
    "    'operador' :['John', 'Juan' , 'Manuel'],\n",
    "    'N° de reloj' : [101, 202, 303]\n",
    "}\n",
    "\n",
    "df = pd.DataFrame(di)\n",
    "\n",
    "print(df)"
   ]
  },
  {
   "cell_type": "code",
   "execution_count": 132,
   "metadata": {},
   "outputs": [
    {
     "data": {
      "text/html": [
       "<div>\n",
       "<style scoped>\n",
       "    .dataframe tbody tr th:only-of-type {\n",
       "        vertical-align: middle;\n",
       "    }\n",
       "\n",
       "    .dataframe tbody tr th {\n",
       "        vertical-align: top;\n",
       "    }\n",
       "\n",
       "    .dataframe thead th {\n",
       "        text-align: right;\n",
       "    }\n",
       "</style>\n",
       "<table border=\"1\" class=\"dataframe\">\n",
       "  <thead>\n",
       "    <tr style=\"text-align: right;\">\n",
       "      <th></th>\n",
       "      <th>operador</th>\n",
       "      <th>N° de reloj</th>\n",
       "    </tr>\n",
       "  </thead>\n",
       "  <tbody>\n",
       "    <tr>\n",
       "      <th>1</th>\n",
       "      <td>Juan</td>\n",
       "      <td>202</td>\n",
       "    </tr>\n",
       "    <tr>\n",
       "      <th>2</th>\n",
       "      <td>Manuel</td>\n",
       "      <td>303</td>\n",
       "    </tr>\n",
       "  </tbody>\n",
       "</table>\n",
       "</div>"
      ],
      "text/plain": [
       "  operador  N° de reloj\n",
       "1     Juan          202\n",
       "2   Manuel          303"
      ]
     },
     "execution_count": 132,
     "metadata": {},
     "output_type": "execute_result"
    }
   ],
   "source": [
    "df[df['N° de reloj'] > 200 ]"
   ]
  },
  {
   "cell_type": "code",
   "execution_count": 133,
   "metadata": {},
   "outputs": [],
   "source": [
    "df['asistencia'] = [True, False, True]\n"
   ]
  },
  {
   "cell_type": "code",
   "execution_count": 134,
   "metadata": {},
   "outputs": [
    {
     "data": {
      "text/html": [
       "<div>\n",
       "<style scoped>\n",
       "    .dataframe tbody tr th:only-of-type {\n",
       "        vertical-align: middle;\n",
       "    }\n",
       "\n",
       "    .dataframe tbody tr th {\n",
       "        vertical-align: top;\n",
       "    }\n",
       "\n",
       "    .dataframe thead th {\n",
       "        text-align: right;\n",
       "    }\n",
       "</style>\n",
       "<table border=\"1\" class=\"dataframe\">\n",
       "  <thead>\n",
       "    <tr style=\"text-align: right;\">\n",
       "      <th></th>\n",
       "      <th>operador</th>\n",
       "      <th>N° de reloj</th>\n",
       "      <th>asistencia</th>\n",
       "    </tr>\n",
       "  </thead>\n",
       "  <tbody>\n",
       "    <tr>\n",
       "      <th>0</th>\n",
       "      <td>John</td>\n",
       "      <td>101</td>\n",
       "      <td>True</td>\n",
       "    </tr>\n",
       "    <tr>\n",
       "      <th>1</th>\n",
       "      <td>Juan</td>\n",
       "      <td>202</td>\n",
       "      <td>False</td>\n",
       "    </tr>\n",
       "    <tr>\n",
       "      <th>2</th>\n",
       "      <td>Manuel</td>\n",
       "      <td>303</td>\n",
       "      <td>True</td>\n",
       "    </tr>\n",
       "  </tbody>\n",
       "</table>\n",
       "</div>"
      ],
      "text/plain": [
       "  operador  N° de reloj  asistencia\n",
       "0     John          101        True\n",
       "1     Juan          202       False\n",
       "2   Manuel          303        True"
      ]
     },
     "execution_count": 134,
     "metadata": {},
     "output_type": "execute_result"
    }
   ],
   "source": [
    "df['asistencia']\n",
    "df"
   ]
  },
  {
   "cell_type": "code",
   "execution_count": 135,
   "metadata": {},
   "outputs": [
    {
     "name": "stdout",
     "output_type": "stream",
     "text": [
      "operador       John\n",
      "N° de reloj     101\n",
      "asistencia     True\n",
      "Name: 0, dtype: object\n"
     ]
    }
   ],
   "source": [
    "print(df.loc[0])"
   ]
  },
  {
   "cell_type": "code",
   "execution_count": 136,
   "metadata": {},
   "outputs": [
    {
     "name": "stdout",
     "output_type": "stream",
     "text": [
      "  operador  N° de reloj  asistencia\n",
      "1     Juan          202       False\n",
      "2   Manuel          303        True\n"
     ]
    }
   ],
   "source": [
    "print(df.loc[1:2])\n"
   ]
  },
  {
   "cell_type": "code",
   "execution_count": 137,
   "metadata": {},
   "outputs": [
    {
     "data": {
      "text/html": [
       "<div>\n",
       "<style scoped>\n",
       "    .dataframe tbody tr th:only-of-type {\n",
       "        vertical-align: middle;\n",
       "    }\n",
       "\n",
       "    .dataframe tbody tr th {\n",
       "        vertical-align: top;\n",
       "    }\n",
       "\n",
       "    .dataframe thead th {\n",
       "        text-align: right;\n",
       "    }\n",
       "</style>\n",
       "<table border=\"1\" class=\"dataframe\">\n",
       "  <thead>\n",
       "    <tr style=\"text-align: right;\">\n",
       "      <th></th>\n",
       "      <th>operador</th>\n",
       "      <th>N° de reloj</th>\n",
       "    </tr>\n",
       "  </thead>\n",
       "  <tbody>\n",
       "    <tr>\n",
       "      <th>a</th>\n",
       "      <td>John</td>\n",
       "      <td>101</td>\n",
       "    </tr>\n",
       "    <tr>\n",
       "      <th>b</th>\n",
       "      <td>Juan</td>\n",
       "      <td>202</td>\n",
       "    </tr>\n",
       "    <tr>\n",
       "      <th>c</th>\n",
       "      <td>Manuel</td>\n",
       "      <td>303</td>\n",
       "    </tr>\n",
       "  </tbody>\n",
       "</table>\n",
       "</div>"
      ],
      "text/plain": [
       "  operador  N° de reloj\n",
       "a     John          101\n",
       "b     Juan          202\n",
       "c   Manuel          303"
      ]
     },
     "execution_count": 137,
     "metadata": {},
     "output_type": "execute_result"
    }
   ],
   "source": [
    "df = pd.DataFrame(di, index = [\"a\", \"b\" , \"c\"])\n",
    "df"
   ]
  },
  {
   "cell_type": "markdown",
   "metadata": {},
   "source": [
    "### Vistas"
   ]
  },
  {
   "cell_type": "code",
   "execution_count": 138,
   "metadata": {},
   "outputs": [],
   "source": [
    "df = pd.read_csv(\"C:\\Julio\\Python_Intermedio\\dataset\\Perfil de estudiante.csv\")"
   ]
  },
  {
   "cell_type": "code",
   "execution_count": 139,
   "metadata": {},
   "outputs": [
    {
     "data": {
      "text/html": [
       "<div>\n",
       "<style scoped>\n",
       "    .dataframe tbody tr th:only-of-type {\n",
       "        vertical-align: middle;\n",
       "    }\n",
       "\n",
       "    .dataframe tbody tr th {\n",
       "        vertical-align: top;\n",
       "    }\n",
       "\n",
       "    .dataframe thead th {\n",
       "        text-align: right;\n",
       "    }\n",
       "</style>\n",
       "<table border=\"1\" class=\"dataframe\">\n",
       "  <thead>\n",
       "    <tr style=\"text-align: right;\">\n",
       "      <th></th>\n",
       "      <th>Marca temporal</th>\n",
       "      <th>1.- ¿De dónde eres?</th>\n",
       "      <th>2.- ¿Cuántos años tienes?</th>\n",
       "      <th>3.- ¿Estudias?</th>\n",
       "      <th>4.- ¿Trabajas?</th>\n",
       "      <th>5.- ¿Cuál es tu nivel de conocimiento en Python?</th>\n",
       "      <th>6.- ¿Qué tema relacionado con Python te gustaría aprender?</th>\n",
       "      <th>7.- ¿Has participado en algún curso anteriormente en el IA Center?</th>\n",
       "      <th>8.- ¿Cuál es tu canción favorita?</th>\n",
       "    </tr>\n",
       "  </thead>\n",
       "  <tbody>\n",
       "    <tr>\n",
       "      <th>0</th>\n",
       "      <td>2023/06/27 7:42:12 p. m. GMT-6</td>\n",
       "      <td>Cd. Juárez</td>\n",
       "      <td>Entre 21 y 24</td>\n",
       "      <td>Sí</td>\n",
       "      <td>No</td>\n",
       "      <td>Básico</td>\n",
       "      <td>Manejar bases de datos</td>\n",
       "      <td>No</td>\n",
       "      <td>The Wolf</td>\n",
       "    </tr>\n",
       "    <tr>\n",
       "      <th>1</th>\n",
       "      <td>2023/06/27 7:42:28 p. m. GMT-6</td>\n",
       "      <td>chihuahua, chihuahua</td>\n",
       "      <td>Entre 21 y 24</td>\n",
       "      <td>Sí</td>\n",
       "      <td>Sí</td>\n",
       "      <td>Básico</td>\n",
       "      <td>machine lerning</td>\n",
       "      <td>Sí</td>\n",
       "      <td>eternity, anyma</td>\n",
       "    </tr>\n",
       "    <tr>\n",
       "      <th>2</th>\n",
       "      <td>2023/06/27 7:42:44 p. m. GMT-6</td>\n",
       "      <td>Chihuahua Chihuahua</td>\n",
       "      <td>Entre 18 y 20</td>\n",
       "      <td>Sí</td>\n",
       "      <td>Sí</td>\n",
       "      <td>Básico</td>\n",
       "      <td>Automatización y creación de apps/páginas web</td>\n",
       "      <td>No</td>\n",
       "      <td>Cornerstone- Arctic Monkeys :)</td>\n",
       "    </tr>\n",
       "    <tr>\n",
       "      <th>3</th>\n",
       "      <td>2023/06/27 7:42:52 p. m. GMT-6</td>\n",
       "      <td>Chihuahua Chihuahua</td>\n",
       "      <td>Entre 21 y 24</td>\n",
       "      <td>Sí</td>\n",
       "      <td>Sí</td>\n",
       "      <td>Básico</td>\n",
       "      <td>Análisis de datos</td>\n",
       "      <td>Sí</td>\n",
       "      <td>Sea Gets Hotter</td>\n",
       "    </tr>\n",
       "    <tr>\n",
       "      <th>4</th>\n",
       "      <td>2023/06/27 7:42:56 p. m. GMT-6</td>\n",
       "      <td>Chihuahua, Chih.</td>\n",
       "      <td>Más de 30</td>\n",
       "      <td>No</td>\n",
       "      <td>Sí</td>\n",
       "      <td>Básico</td>\n",
       "      <td>Conocer más librerias</td>\n",
       "      <td>Sí</td>\n",
       "      <td>Love Me More, de Sam Smith</td>\n",
       "    </tr>\n",
       "  </tbody>\n",
       "</table>\n",
       "</div>"
      ],
      "text/plain": [
       "                   Marca temporal   1.- ¿De dónde eres?  \\\n",
       "0  2023/06/27 7:42:12 p. m. GMT-6            Cd. Juárez   \n",
       "1  2023/06/27 7:42:28 p. m. GMT-6  chihuahua, chihuahua   \n",
       "2  2023/06/27 7:42:44 p. m. GMT-6   Chihuahua Chihuahua   \n",
       "3  2023/06/27 7:42:52 p. m. GMT-6   Chihuahua Chihuahua   \n",
       "4  2023/06/27 7:42:56 p. m. GMT-6      Chihuahua, Chih.   \n",
       "\n",
       "  2.- ¿Cuántos años tienes? 3.- ¿Estudias? 4.- ¿Trabajas?  \\\n",
       "0             Entre 21 y 24             Sí             No   \n",
       "1             Entre 21 y 24             Sí             Sí   \n",
       "2             Entre 18 y 20             Sí             Sí   \n",
       "3             Entre 21 y 24             Sí             Sí   \n",
       "4                 Más de 30             No             Sí   \n",
       "\n",
       "  5.- ¿Cuál es tu nivel de conocimiento en Python?  \\\n",
       "0                                           Básico   \n",
       "1                                           Básico   \n",
       "2                                           Básico   \n",
       "3                                           Básico   \n",
       "4                                           Básico   \n",
       "\n",
       "  6.- ¿Qué tema relacionado con Python te gustaría aprender?  \\\n",
       "0                             Manejar bases de datos           \n",
       "1                                    machine lerning           \n",
       "2      Automatización y creación de apps/páginas web           \n",
       "3                                  Análisis de datos           \n",
       "4                              Conocer más librerias           \n",
       "\n",
       "  7.- ¿Has participado en algún curso anteriormente en el IA Center?  \\\n",
       "0                                                 No                   \n",
       "1                                                 Sí                   \n",
       "2                                                 No                   \n",
       "3                                                 Sí                   \n",
       "4                                                 Sí                   \n",
       "\n",
       "  8.- ¿Cuál es tu canción favorita?  \n",
       "0                          The Wolf  \n",
       "1                   eternity, anyma  \n",
       "2    Cornerstone- Arctic Monkeys :)  \n",
       "3                   Sea Gets Hotter  \n",
       "4        Love Me More, de Sam Smith  "
      ]
     },
     "execution_count": 139,
     "metadata": {},
     "output_type": "execute_result"
    }
   ],
   "source": [
    "df.head()"
   ]
  },
  {
   "cell_type": "code",
   "execution_count": 140,
   "metadata": {},
   "outputs": [
    {
     "name": "stdout",
     "output_type": "stream",
     "text": [
      "<class 'pandas.core.frame.DataFrame'>\n",
      "RangeIndex: 43 entries, 0 to 42\n",
      "Data columns (total 9 columns):\n",
      " #   Column                                                              Non-Null Count  Dtype \n",
      "---  ------                                                              --------------  ----- \n",
      " 0   Marca temporal                                                      43 non-null     object\n",
      " 1   1.- ¿De dónde eres?                                                 43 non-null     object\n",
      " 2   2.- ¿Cuántos años tienes?                                           43 non-null     object\n",
      " 3   3.- ¿Estudias?                                                      43 non-null     object\n",
      " 4   4.- ¿Trabajas?                                                      43 non-null     object\n",
      " 5   5.- ¿Cuál es tu nivel de conocimiento en Python?                    43 non-null     object\n",
      " 6   6.- ¿Qué tema relacionado con Python te gustaría aprender?          43 non-null     object\n",
      " 7   7.- ¿Has participado en algún curso anteriormente en el IA Center?  43 non-null     object\n",
      " 8   8.- ¿Cuál es tu canción favorita?                                   43 non-null     object\n",
      "dtypes: object(9)\n",
      "memory usage: 3.2+ KB\n"
     ]
    }
   ],
   "source": [
    "df.info()"
   ]
  },
  {
   "cell_type": "code",
   "execution_count": 141,
   "metadata": {},
   "outputs": [
    {
     "data": {
      "text/html": [
       "<div>\n",
       "<style scoped>\n",
       "    .dataframe tbody tr th:only-of-type {\n",
       "        vertical-align: middle;\n",
       "    }\n",
       "\n",
       "    .dataframe tbody tr th {\n",
       "        vertical-align: top;\n",
       "    }\n",
       "\n",
       "    .dataframe thead th {\n",
       "        text-align: right;\n",
       "    }\n",
       "</style>\n",
       "<table border=\"1\" class=\"dataframe\">\n",
       "  <thead>\n",
       "    <tr style=\"text-align: right;\">\n",
       "      <th></th>\n",
       "      <th>Marca temporal</th>\n",
       "      <th>1.- ¿De dónde eres?</th>\n",
       "      <th>2.- ¿Cuántos años tienes?</th>\n",
       "      <th>3.- ¿Estudias?</th>\n",
       "      <th>4.- ¿Trabajas?</th>\n",
       "      <th>5.- ¿Cuál es tu nivel de conocimiento en Python?</th>\n",
       "      <th>6.- ¿Qué tema relacionado con Python te gustaría aprender?</th>\n",
       "      <th>7.- ¿Has participado en algún curso anteriormente en el IA Center?</th>\n",
       "      <th>8.- ¿Cuál es tu canción favorita?</th>\n",
       "    </tr>\n",
       "  </thead>\n",
       "  <tbody>\n",
       "    <tr>\n",
       "      <th>38</th>\n",
       "      <td>2023/06/27 10:02:11 p. m. GMT-6</td>\n",
       "      <td>Ciudad Juarez, Chih</td>\n",
       "      <td>Entre 21 y 24</td>\n",
       "      <td>No</td>\n",
       "      <td>Sí</td>\n",
       "      <td>Básico</td>\n",
       "      <td>Analisis de datos</td>\n",
       "      <td>Sí</td>\n",
       "      <td>https://youtu.be/BGVUiMskx_U</td>\n",
       "    </tr>\n",
       "    <tr>\n",
       "      <th>39</th>\n",
       "      <td>2023/06/27 10:31:28 p. m. GMT-6</td>\n",
       "      <td>cd juarez</td>\n",
       "      <td>Entre 21 y 24</td>\n",
       "      <td>Sí</td>\n",
       "      <td>Sí</td>\n",
       "      <td>Básico</td>\n",
       "      <td>punteros</td>\n",
       "      <td>Sí</td>\n",
       "      <td>porter guiame quetzal</td>\n",
       "    </tr>\n",
       "    <tr>\n",
       "      <th>40</th>\n",
       "      <td>2023/06/28 10:12:04 p. m. GMT-6</td>\n",
       "      <td>Chihuahua</td>\n",
       "      <td>Entre 21 y 24</td>\n",
       "      <td>No</td>\n",
       "      <td>Sí</td>\n",
       "      <td>Básico</td>\n",
       "      <td>Machine Learning y Deep Learning</td>\n",
       "      <td>Sí</td>\n",
       "      <td>Runaway</td>\n",
       "    </tr>\n",
       "    <tr>\n",
       "      <th>41</th>\n",
       "      <td>2023/06/29 2:00:51 a. m. GMT-6</td>\n",
       "      <td>Vivo en Ciudad Juárez. Soy cubana</td>\n",
       "      <td>Más de 30</td>\n",
       "      <td>Sí</td>\n",
       "      <td>No</td>\n",
       "      <td>Intermedio</td>\n",
       "      <td>Cómo escribir un código de forma profesional, ...</td>\n",
       "      <td>No</td>\n",
       "      <td>Hay varias, pero últimamente escucho mucho \"Cu...</td>\n",
       "    </tr>\n",
       "    <tr>\n",
       "      <th>42</th>\n",
       "      <td>2023/07/03 1:55:24 p. m. GMT-6</td>\n",
       "      <td>Ciudad Juarez</td>\n",
       "      <td>Más de 30</td>\n",
       "      <td>No</td>\n",
       "      <td>Sí</td>\n",
       "      <td>Intermedio</td>\n",
       "      <td>Automatizacion</td>\n",
       "      <td>No</td>\n",
       "      <td>David Bowie - Heroes</td>\n",
       "    </tr>\n",
       "  </tbody>\n",
       "</table>\n",
       "</div>"
      ],
      "text/plain": [
       "                     Marca temporal                1.- ¿De dónde eres?  \\\n",
       "38  2023/06/27 10:02:11 p. m. GMT-6                Ciudad Juarez, Chih   \n",
       "39  2023/06/27 10:31:28 p. m. GMT-6                          cd juarez   \n",
       "40  2023/06/28 10:12:04 p. m. GMT-6                          Chihuahua   \n",
       "41   2023/06/29 2:00:51 a. m. GMT-6  Vivo en Ciudad Juárez. Soy cubana   \n",
       "42   2023/07/03 1:55:24 p. m. GMT-6                      Ciudad Juarez   \n",
       "\n",
       "   2.- ¿Cuántos años tienes? 3.- ¿Estudias? 4.- ¿Trabajas?  \\\n",
       "38             Entre 21 y 24             No             Sí   \n",
       "39             Entre 21 y 24             Sí             Sí   \n",
       "40             Entre 21 y 24             No             Sí   \n",
       "41                 Más de 30             Sí             No   \n",
       "42                 Más de 30             No             Sí   \n",
       "\n",
       "   5.- ¿Cuál es tu nivel de conocimiento en Python?  \\\n",
       "38                                           Básico   \n",
       "39                                           Básico   \n",
       "40                                           Básico   \n",
       "41                                       Intermedio   \n",
       "42                                       Intermedio   \n",
       "\n",
       "   6.- ¿Qué tema relacionado con Python te gustaría aprender?  \\\n",
       "38                                  Analisis de datos           \n",
       "39                                           punteros           \n",
       "40                   Machine Learning y Deep Learning           \n",
       "41  Cómo escribir un código de forma profesional, ...           \n",
       "42                                     Automatizacion           \n",
       "\n",
       "   7.- ¿Has participado en algún curso anteriormente en el IA Center?  \\\n",
       "38                                                 Sí                   \n",
       "39                                                 Sí                   \n",
       "40                                                 Sí                   \n",
       "41                                                 No                   \n",
       "42                                                 No                   \n",
       "\n",
       "                    8.- ¿Cuál es tu canción favorita?  \n",
       "38                       https://youtu.be/BGVUiMskx_U  \n",
       "39                             porter guiame quetzal   \n",
       "40                                            Runaway  \n",
       "41  Hay varias, pero últimamente escucho mucho \"Cu...  \n",
       "42                              David Bowie - Heroes   "
      ]
     },
     "execution_count": 141,
     "metadata": {},
     "output_type": "execute_result"
    }
   ],
   "source": [
    "df.tail()"
   ]
  },
  {
   "cell_type": "markdown",
   "metadata": {},
   "source": [
    "### CSV"
   ]
  },
  {
   "cell_type": "code",
   "execution_count": 142,
   "metadata": {},
   "outputs": [
    {
     "name": "stdout",
     "output_type": "stream",
     "text": [
      "                     Marca temporal                        1.- ¿De dónde eres? 2.- ¿Cuántos años tienes? 3.- ¿Estudias? 4.- ¿Trabajas? 5.- ¿Cuál es tu nivel de conocimiento en Python?                                           6.- ¿Qué tema relacionado con Python te gustaría aprender? 7.- ¿Has participado en algún curso anteriormente en el IA Center?                             8.- ¿Cuál es tu canción favorita?\n",
      "0    2023/06/27 7:42:12 p. m. GMT-6                                 Cd. Juárez             Entre 21 y 24             Sí             No                                           Básico                                                                               Manejar bases de datos                                                                 No                                                      The Wolf\n",
      "1    2023/06/27 7:42:28 p. m. GMT-6                       chihuahua, chihuahua             Entre 21 y 24             Sí             Sí                                           Básico                                                                                      machine lerning                                                                 Sí                                               eternity, anyma\n",
      "2    2023/06/27 7:42:44 p. m. GMT-6                        Chihuahua Chihuahua             Entre 18 y 20             Sí             Sí                                           Básico                                                        Automatización y creación de apps/páginas web                                                                 No                                Cornerstone- Arctic Monkeys :)\n",
      "3    2023/06/27 7:42:52 p. m. GMT-6                        Chihuahua Chihuahua             Entre 21 y 24             Sí             Sí                                           Básico                                                                                    Análisis de datos                                                                 Sí                                               Sea Gets Hotter\n",
      "4    2023/06/27 7:42:56 p. m. GMT-6                           Chihuahua, Chih.                 Más de 30             No             Sí                                           Básico                                                                                Conocer más librerias                                                                 Sí                                    Love Me More, de Sam Smith\n",
      "5    2023/06/27 7:42:57 p. m. GMT-6                                     Puebla             Entre 21 y 24             Sí             Sí                                           Básico                                                                                  APIS y data science                                                                 No                                      Fireflight - Unbreakable\n",
      "6    2023/06/27 7:42:57 p. m. GMT-6                            Cd. Juarez Chih                 Más de 30             No             Sí                                       Intermedio                                                                                    Analisis de Datos                                                                 Sí                                          Instrumental General\n",
      "7    2023/06/27 7:43:04 p. m. GMT-6                              Ciudad Juarez             Entre 21 y 24             Sí             Sí                                           Básico                                                                                     Ciencia de datos                                                                 Sí                                     La bruja de Marco Flores \n",
      "8    2023/06/27 7:43:10 p. m. GMT-6                             Aguascalientes             Entre 18 y 20             Sí             No                                           Básico  Me gustaria aprender un poco de todo, pero mas que nada me gustaria practicar mas los conocimientos                                                                 No                                           Canela-Nanpa Basico\n",
      "9    2023/06/27 7:43:12 p. m. GMT-6                           Cd Juarez, Chih.             Entre 21 y 24             Sí             No                                           Básico                                       No tengo un tema en especifico, solo deseo repasar y aprender                                                                  Sí          Depende del momento hy del día, ahora es Hielo - Zoé\n",
      "10   2023/06/27 7:43:12 p. m. GMT-6                                     Juárez             Entre 21 y 24             Sí             Sí                                           Básico                                                                                    Análisis de datos                                                                 No                                                    No tengo:(\n",
      "11   2023/06/27 7:43:16 p. m. GMT-6                                 El Paso TX             Entre 18 y 20             Sí             No                                           Básico                                                                                                  POO                                                                 No                                 The Words I Never Said / Mage\n",
      "12   2023/06/27 7:43:16 p. m. GMT-6                       Cuauhtemoc Chihuahua                 Más de 30             No             Sí                                       Intermedio                                                                              Web y análisis de datos                                                                 No                                              Dust in the wind\n",
      "13   2023/06/27 7:43:29 p. m. GMT-6                                Cd. Juárez              Entre 21 y 24             Sí             Sí                                           Básico                         Flujos de trabajo, análisis de datos, análisis estadístico y automatización                                                                  Sí                                       Manto estelar - Moenia \n",
      "14   2023/06/27 7:43:34 p. m. GMT-6                                    Hidalgo             Entre 25 y 29             Sí             Sí                                           Básico                                                                                        Deep learning                                                                 No                                                         Todas\n",
      "15   2023/06/27 7:43:50 p. m. GMT-6                          Cd. Juarez, Chih.             Entre 21 y 24             Sí             Sí                                           Básico                                                               Programación orientada a objetos (POO)                                                                 Sí                        Skillet-Comatose y Whisper in the Dark\n",
      "16   2023/06/27 7:44:01 p. m. GMT-6                       Cd. Juarez Chihuahua                 Más de 30             No             Sí                                           Básico                                        un poco de todo para irme familiarizandome a la prograamacion                                                                 Sí                             el hada y el mago de reta blancha\n",
      "17   2023/06/27 7:44:01 p. m. GMT-6             Ciudad Juarez Chihuahua Mexico             Entre 21 y 24             No             No                                           Básico                                                                                            API y IA                                                                  Sí   https://youtu.be/dQw4w9WgXcQ y https://youtu.be/yJDBmP9Mexk\n",
      "18   2023/06/27 7:44:12 p. m. GMT-6                              Ciudad Juarez                 Más de 30             Sí             No                                           Básico                                                       Web Scrapping y limpieza de conjuntos de datos                                                                 Sí                                              Hotel California\n",
      "19   2023/06/27 7:44:14 p. m. GMT-6                           Chihuahua, Chih.                 Más de 30             No             Sí                                           Básico                                                                                    análisis de datos                                                                 Sí   no tengo canción favorita, prácticamente no escucho música \n",
      "20   2023/06/27 7:44:17 p. m. GMT-6                              Ciudad Juarez             Entre 18 y 20             Sí             No                                           Básico                                                       Analisis de datos y su uso para desarrollo web                                                                 No                                     Burn My Dread - Persona 3\n",
      "21   2023/06/27 7:44:20 p. m. GMT-6               Cd Juárez Chihuahua, México.                 Más de 30             No             Sí                                           Básico                                                        Ciencia de Datos, y API`s y Todo lo de Python                                                                 Sí                                                          ....\n",
      "22   2023/06/27 7:44:25 p. m. GMT-6                              Ciudad Juárez                 Más de 30             No             Sí                                           Básico                                                       recolección, limpieza y visualización de datos                                                                 Sí                                                   Todo cuenta\n",
      "23   2023/06/27 7:44:30 p. m. GMT-6                                 Cd. Juárez             Entre 25 y 29             Sí             No                                           Básico                                                                                     Ciencia de datos                                                                 Sí                                             Chosen - Maneskin\n",
      "24   2023/06/27 7:44:31 p. m. GMT-6                                     Juarez             Entre 25 y 29             Sí             Sí                                           Básico         Como hacer una interfaz para poder hacer un programa funcional para terceros. Python con SQL                                                                 Sí                                             God's Plan- Drake\n",
      "25   2023/06/27 7:45:04 p. m. GMT-6                     Cd. Juárez, Chihuahua              Entre 18 y 20             Sí             No                        Nunca he utilizado Python                                                                      Programación para uso academico                                                                 No                    A man without love - Engelbert Humperdinck\n",
      "26   2023/06/27 7:45:37 p. m. GMT-6                            Aguascalientes              Entre 21 y 24             Sí             No                                       Intermedio                                                                  un poco de inteligencia artificial                                                                  No                                              Love of my life \n",
      "27   2023/06/27 7:45:45 p. m. GMT-6                                 Cd. Juarez             Entre 15 y 17             Sí             No                                           Básico                                                                                               Bucles                                                                 Sí                               Jorge Drexler - El Plan Maestro\n",
      "28   2023/06/27 7:46:10 p. m. GMT-6  San Francisco de los Romo, Aguascalientes             Entre 18 y 20             Sí             No                                           Básico                                           Librerias con aplicaciones en el mundo de las matemáticas.                                                                 No                                     Inolvidable - Luis Miguel\n",
      "29   2023/06/27 7:46:14 p. m. GMT-6                                  Chihuahua             Entre 18 y 20             Sí             Sí                                           Básico                                                                                           desarrollo                                                                 No                                                     Last Call\n",
      "30   2023/06/27 7:46:28 p. m. GMT-6                              Ciudad Juárez             Entre 21 y 24             Sí             No                                           Básico                                                                               Procesamiento de datos                                                                 Sí                              Lacrimosa- Matt Kent, Amber Dawn\n",
      "31   2023/06/27 7:46:32 p. m. GMT-6                                 Zacatecas              Entre 25 y 29             Sí             Sí                                           Básico                                                                                                 Apis                                                                 Sí                                          All the small things\n",
      "32   2023/06/27 7:46:37 p. m. GMT-6                              Ciudad Juarez             Entre 21 y 24             Sí             Sí                                           Básico                                                                                      MachineLearning                                                                 No                           Like I Love You - Justin Timberlake\n",
      "33   2023/06/27 7:49:23 p. m. GMT-6                              Ciudad Juárez             Entre 18 y 20             Sí             No                                           Básico                                                                    Ciencia de Datos y automatización                                                                 Sí                  Cold Heart - PNAU REMIX Elton Jhon, Dua Lipa\n",
      "34   2023/06/27 7:51:23 p. m. GMT-6                              Ciudad Juarez             Entre 25 y 29             Sí             Sí                                       Intermedio                                                                        ciencia de datos, webscraping                                                                 Sí                                 Gorillaz - On Melancholy Hill\n",
      "35   2023/06/27 7:55:00 p. m. GMT-6                Veracruz, estudio en Puebla             Entre 25 y 29             Sí             No                                           Básico                                                                Lo relacionado con análisis de datos.                                                                 Sí        En este momento Los Años Maravillosos de Little Jesus \n",
      "36   2023/06/27 8:05:42 p. m. GMT-6                                       CDMX             Entre 25 y 29             No             Sí                                           Básico                                                                                         web scraping                                                                 No                                                   Young Turks\n",
      "37   2023/06/27 8:22:29 p. m. GMT-6                           Estado de Mexico             Entre 21 y 24             Sí             Sí                                           Básico                                                                  librerias, bloques paquetes etc....                                                                 No                                       the weeknd- Out of time\n",
      "38  2023/06/27 10:02:11 p. m. GMT-6                        Ciudad Juarez, Chih             Entre 21 y 24             No             Sí                                           Básico                                                                                    Analisis de datos                                                                 Sí                                  https://youtu.be/BGVUiMskx_U\n",
      "39  2023/06/27 10:31:28 p. m. GMT-6                                  cd juarez             Entre 21 y 24             Sí             Sí                                           Básico                                                                                             punteros                                                                 Sí                                        porter guiame quetzal \n",
      "40  2023/06/28 10:12:04 p. m. GMT-6                                  Chihuahua             Entre 21 y 24             No             Sí                                           Básico                                                                     Machine Learning y Deep Learning                                                                 Sí                                                       Runaway\n",
      "41   2023/06/29 2:00:51 a. m. GMT-6          Vivo en Ciudad Juárez. Soy cubana                 Más de 30             Sí             No                                       Intermedio       Cómo escribir un código de forma profesional, utilizando las herramientas necesarias y óptimas                                                                 No  Hay varias, pero últimamente escucho mucho \"Cuba Isla Bella\"\n",
      "42   2023/07/03 1:55:24 p. m. GMT-6                              Ciudad Juarez                 Más de 30             No             Sí                                       Intermedio                                                                                       Automatizacion                                                                 No                                         David Bowie - Heroes \n"
     ]
    }
   ],
   "source": [
    "df = pd.read_csv('C:\\Julio\\Python_Intermedio\\dataset\\Perfil de estudiante.csv')\n",
    "\n",
    "print(df.to_string())"
   ]
  },
  {
   "cell_type": "markdown",
   "metadata": {},
   "source": [
    "### JSON"
   ]
  },
  {
   "cell_type": "code",
   "execution_count": 143,
   "metadata": {},
   "outputs": [
    {
     "name": "stdout",
     "output_type": "stream",
     "text": [
      "                                                 personas\n",
      "0      {'nombre': 'Juan', 'edad': 25, 'ciudad': 'Madrid'}\n",
      "1  {'nombre': 'María', 'edad': 30, 'ciudad': 'Barcelona'}\n",
      "2   {'nombre': 'Pedro', 'edad': 35, 'ciudad': 'Valencia'}\n"
     ]
    }
   ],
   "source": [
    "df = pd.read_json('C:\\Julio\\Python_Intermedio\\dataset\\dataset.json')\n",
    "print(df.to_string())\n"
   ]
  },
  {
   "cell_type": "markdown",
   "metadata": {},
   "source": [
    "### Limpieza de datos"
   ]
  },
  {
   "cell_type": "code",
   "execution_count": 144,
   "metadata": {},
   "outputs": [],
   "source": [
    "data = {\n",
    "    'Nombre': ['Juan', 'María', 'Pedro', 'Ana', 'Luis'],\n",
    "    'Edad': [25, 32, None, 42, 28],\n",
    "    'Fecha': ['31/01/2020', '31/01/2020', None, '31/01/2020', '01/31/2020'],\n",
    "    'Género': ['M', 'F', None, 'F', 'M'],\n",
    "    'Ciudad': ['Madrid', None, 'Madrid', 'Valencia', 'Barcelona'],\n",
    "    'Altura': [175, 163, 180, 158, 170],\n",
    "    'Peso': [70, None, 80, 60, 75],\n",
    "    'Ingresos': [50000, 60000, 40000, None, 55000]\n",
    "}"
   ]
  },
  {
   "cell_type": "code",
   "execution_count": 162,
   "metadata": {},
   "outputs": [
    {
     "name": "stdout",
     "output_type": "stream",
     "text": [
      "  Nombre  Edad       Fecha Género     Ciudad  Altura  Peso  Ingresos\n",
      "0   Juan  25.0  31/01/2020      M     Madrid     175  70.0   50000.0\n",
      "1  María  32.0  31/01/2020      F       None     163   NaN   60000.0\n",
      "2  Pedro   NaN        None   None     Madrid     180  80.0   40000.0\n",
      "3    Ana  42.0  31/01/2020      F   Valencia     158  60.0       NaN\n",
      "4   Luis  28.0  01/31/2020      M  Barcelona     170  75.0   55000.0\n"
     ]
    }
   ],
   "source": [
    "df = pd.DataFrame(data)\n",
    "\n",
    "print(df)"
   ]
  },
  {
   "cell_type": "code",
   "execution_count": 146,
   "metadata": {},
   "outputs": [
    {
     "name": "stdout",
     "output_type": "stream",
     "text": [
      "  Nombre  Edad       Fecha Género     Ciudad  Altura  Peso  Ingresos\n",
      "0   Juan  25.0  31/01/2020      M     Madrid     175  70.0   50000.0\n",
      "4   Luis  28.0  01/31/2020      M  Barcelona     170  75.0   55000.0\n"
     ]
    }
   ],
   "source": [
    "df_vacios = df.dropna() #Esto nos genera una copia\n",
    "\n",
    "print(df_vacios.to_string())"
   ]
  },
  {
   "cell_type": "code",
   "execution_count": 147,
   "metadata": {},
   "outputs": [
    {
     "name": "stdout",
     "output_type": "stream",
     "text": [
      "  Nombre  Edad       Fecha Género     Ciudad  Altura  Peso  Ingresos\n",
      "0   Juan  25.0  31/01/2020      M     Madrid     175  70.0   50000.0\n",
      "4   Luis  28.0  01/31/2020      M  Barcelona     170  75.0   55000.0\n"
     ]
    }
   ],
   "source": [
    "df.dropna(inplace=True) #Esto modifica el data frame original\n",
    "\n",
    "print(df.to_string())"
   ]
  },
  {
   "cell_type": "code",
   "execution_count": 151,
   "metadata": {},
   "outputs": [
    {
     "name": "stdout",
     "output_type": "stream",
     "text": [
      "  Nombre   Edad       Fecha Género     Ciudad  Altura   Peso Ingresos\n",
      "0   Juan   25.0  31/01/2020      M     Madrid     175   70.0  50000.0\n",
      "1  María   32.0  31/01/2020      F      vacio     163  vacio  60000.0\n",
      "2  Pedro  vacio       vacio  vacio     Madrid     180   80.0  40000.0\n",
      "3    Ana   42.0  31/01/2020      F   Valencia     158   60.0    vacio\n",
      "4   Luis   28.0  01/31/2020      M  Barcelona     170   75.0  55000.0\n"
     ]
    }
   ],
   "source": [
    "df.fillna('vacio', inplace=True)\n",
    "\n",
    "print(df)"
   ]
  },
  {
   "cell_type": "code",
   "execution_count": 160,
   "metadata": {},
   "outputs": [
    {
     "name": "stdout",
     "output_type": "stream",
     "text": [
      "  Nombre  Edad       Fecha Género     Ciudad  Altura  Peso  Ingresos\n",
      "0   Juan  25.0  31/01/2020      M     Madrid     175  70.0   50000.0\n",
      "1  María  32.0  31/01/2020      F       None     163   NaN   60000.0\n",
      "2  Pedro   NaN        None   None     Madrid     180  80.0   40000.0\n",
      "3    Ana  42.0  31/01/2020      F   Valencia     158  60.0       0.0\n",
      "4   Luis  28.0  01/31/2020      M  Barcelona     170  75.0   55000.0\n"
     ]
    }
   ],
   "source": [
    "df['Ingresos'].fillna(0, inplace=True) #Esto cambia el valor de los nulosde ingresos\n",
    "\n",
    "print(df)"
   ]
  },
  {
   "cell_type": "code",
   "execution_count": 161,
   "metadata": {},
   "outputs": [
    {
     "name": "stdout",
     "output_type": "stream",
     "text": [
      "41000.0\n"
     ]
    }
   ],
   "source": [
    "media = df['Ingresos'].mean()\n",
    "print(media)"
   ]
  },
  {
   "cell_type": "code",
   "execution_count": 163,
   "metadata": {},
   "outputs": [
    {
     "name": "stdout",
     "output_type": "stream",
     "text": [
      "  Nombre  Edad       Fecha Género     Ciudad  Altura  Peso  Ingresos\n",
      "0   Juan  25.0  31/01/2020      M     Madrid     175  70.0   50000.0\n",
      "1  María  32.0  31/01/2020      F       None     163   NaN   60000.0\n",
      "2  Pedro   NaN        None   None     Madrid     180  80.0   40000.0\n",
      "3    Ana  42.0  31/01/2020      F   Valencia     158  60.0   41000.0\n",
      "4   Luis  28.0  01/31/2020      M  Barcelona     170  75.0   55000.0\n"
     ]
    }
   ],
   "source": [
    "df['Ingresos'].fillna(media, inplace = True)\n",
    "print(df)"
   ]
  },
  {
   "cell_type": "code",
   "execution_count": 170,
   "metadata": {},
   "outputs": [
    {
     "name": "stdout",
     "output_type": "stream",
     "text": [
      "71.25\n"
     ]
    },
    {
     "data": {
      "text/html": [
       "<div>\n",
       "<style scoped>\n",
       "    .dataframe tbody tr th:only-of-type {\n",
       "        vertical-align: middle;\n",
       "    }\n",
       "\n",
       "    .dataframe tbody tr th {\n",
       "        vertical-align: top;\n",
       "    }\n",
       "\n",
       "    .dataframe thead th {\n",
       "        text-align: right;\n",
       "    }\n",
       "</style>\n",
       "<table border=\"1\" class=\"dataframe\">\n",
       "  <thead>\n",
       "    <tr style=\"text-align: right;\">\n",
       "      <th></th>\n",
       "      <th>Nombre</th>\n",
       "      <th>Edad</th>\n",
       "      <th>Fecha</th>\n",
       "      <th>Género</th>\n",
       "      <th>Ciudad</th>\n",
       "      <th>Altura</th>\n",
       "      <th>Peso</th>\n",
       "      <th>Ingresos</th>\n",
       "    </tr>\n",
       "  </thead>\n",
       "  <tbody>\n",
       "    <tr>\n",
       "      <th>0</th>\n",
       "      <td>Juan</td>\n",
       "      <td>25.0</td>\n",
       "      <td>31/01/2020</td>\n",
       "      <td>M</td>\n",
       "      <td>Madrid</td>\n",
       "      <td>175</td>\n",
       "      <td>70.00</td>\n",
       "      <td>50000.0</td>\n",
       "    </tr>\n",
       "    <tr>\n",
       "      <th>1</th>\n",
       "      <td>María</td>\n",
       "      <td>32.0</td>\n",
       "      <td>31/01/2020</td>\n",
       "      <td>F</td>\n",
       "      <td>None</td>\n",
       "      <td>163</td>\n",
       "      <td>71.25</td>\n",
       "      <td>60000.0</td>\n",
       "    </tr>\n",
       "    <tr>\n",
       "      <th>2</th>\n",
       "      <td>Pedro</td>\n",
       "      <td>NaN</td>\n",
       "      <td>None</td>\n",
       "      <td>None</td>\n",
       "      <td>Madrid</td>\n",
       "      <td>180</td>\n",
       "      <td>80.00</td>\n",
       "      <td>40000.0</td>\n",
       "    </tr>\n",
       "    <tr>\n",
       "      <th>3</th>\n",
       "      <td>Ana</td>\n",
       "      <td>42.0</td>\n",
       "      <td>31/01/2020</td>\n",
       "      <td>F</td>\n",
       "      <td>Valencia</td>\n",
       "      <td>158</td>\n",
       "      <td>60.00</td>\n",
       "      <td>41000.0</td>\n",
       "    </tr>\n",
       "    <tr>\n",
       "      <th>4</th>\n",
       "      <td>Luis</td>\n",
       "      <td>28.0</td>\n",
       "      <td>01/31/2020</td>\n",
       "      <td>M</td>\n",
       "      <td>Barcelona</td>\n",
       "      <td>170</td>\n",
       "      <td>75.00</td>\n",
       "      <td>55000.0</td>\n",
       "    </tr>\n",
       "  </tbody>\n",
       "</table>\n",
       "</div>"
      ],
      "text/plain": [
       "  Nombre  Edad       Fecha Género     Ciudad  Altura   Peso  Ingresos\n",
       "0   Juan  25.0  31/01/2020      M     Madrid     175  70.00   50000.0\n",
       "1  María  32.0  31/01/2020      F       None     163  71.25   60000.0\n",
       "2  Pedro   NaN        None   None     Madrid     180  80.00   40000.0\n",
       "3    Ana  42.0  31/01/2020      F   Valencia     158  60.00   41000.0\n",
       "4   Luis  28.0  01/31/2020      M  Barcelona     170  75.00   55000.0"
      ]
     },
     "execution_count": 170,
     "metadata": {},
     "output_type": "execute_result"
    }
   ],
   "source": [
    "promedio = df['Peso'].mean()\n",
    "print(promedio)\n",
    "\n",
    "df['Peso'].fillna(promedio, inplace=True)\n",
    "df "
   ]
  },
  {
   "cell_type": "code",
   "execution_count": 174,
   "metadata": {},
   "outputs": [
    {
     "data": {
      "text/html": [
       "<div>\n",
       "<style scoped>\n",
       "    .dataframe tbody tr th:only-of-type {\n",
       "        vertical-align: middle;\n",
       "    }\n",
       "\n",
       "    .dataframe tbody tr th {\n",
       "        vertical-align: top;\n",
       "    }\n",
       "\n",
       "    .dataframe thead th {\n",
       "        text-align: right;\n",
       "    }\n",
       "</style>\n",
       "<table border=\"1\" class=\"dataframe\">\n",
       "  <thead>\n",
       "    <tr style=\"text-align: right;\">\n",
       "      <th></th>\n",
       "      <th>Nombre</th>\n",
       "      <th>Edad</th>\n",
       "      <th>Fecha</th>\n",
       "      <th>Género</th>\n",
       "      <th>Ciudad</th>\n",
       "      <th>Altura</th>\n",
       "      <th>Peso</th>\n",
       "      <th>Ingresos</th>\n",
       "    </tr>\n",
       "  </thead>\n",
       "  <tbody>\n",
       "    <tr>\n",
       "      <th>0</th>\n",
       "      <td>Juan</td>\n",
       "      <td>25.0</td>\n",
       "      <td>31/01/2020</td>\n",
       "      <td>M</td>\n",
       "      <td>Madrid</td>\n",
       "      <td>175</td>\n",
       "      <td>70.0</td>\n",
       "      <td>50000.0</td>\n",
       "    </tr>\n",
       "    <tr>\n",
       "      <th>1</th>\n",
       "      <td>María</td>\n",
       "      <td>32.0</td>\n",
       "      <td>31/01/2020</td>\n",
       "      <td>F</td>\n",
       "      <td>None</td>\n",
       "      <td>163</td>\n",
       "      <td>74.0</td>\n",
       "      <td>60000.0</td>\n",
       "    </tr>\n",
       "    <tr>\n",
       "      <th>2</th>\n",
       "      <td>Pedro</td>\n",
       "      <td>NaN</td>\n",
       "      <td>None</td>\n",
       "      <td>None</td>\n",
       "      <td>Madrid</td>\n",
       "      <td>180</td>\n",
       "      <td>80.0</td>\n",
       "      <td>40000.0</td>\n",
       "    </tr>\n",
       "    <tr>\n",
       "      <th>3</th>\n",
       "      <td>Ana</td>\n",
       "      <td>42.0</td>\n",
       "      <td>31/01/2020</td>\n",
       "      <td>F</td>\n",
       "      <td>Valencia</td>\n",
       "      <td>158</td>\n",
       "      <td>60.0</td>\n",
       "      <td>41000.0</td>\n",
       "    </tr>\n",
       "    <tr>\n",
       "      <th>4</th>\n",
       "      <td>Luis</td>\n",
       "      <td>28.0</td>\n",
       "      <td>01/31/2020</td>\n",
       "      <td>M</td>\n",
       "      <td>Barcelona</td>\n",
       "      <td>170</td>\n",
       "      <td>75.0</td>\n",
       "      <td>55000.0</td>\n",
       "    </tr>\n",
       "  </tbody>\n",
       "</table>\n",
       "</div>"
      ],
      "text/plain": [
       "  Nombre  Edad       Fecha Género     Ciudad  Altura  Peso  Ingresos\n",
       "0   Juan  25.0  31/01/2020      M     Madrid     175  70.0   50000.0\n",
       "1  María  32.0  31/01/2020      F       None     163  74.0   60000.0\n",
       "2  Pedro   NaN        None   None     Madrid     180  80.0   40000.0\n",
       "3    Ana  42.0  31/01/2020      F   Valencia     158  60.0   41000.0\n",
       "4   Luis  28.0  01/31/2020      M  Barcelona     170  75.0   55000.0"
      ]
     },
     "execution_count": 174,
     "metadata": {},
     "output_type": "execute_result"
    }
   ],
   "source": [
    "df.loc[1, 'Peso'] = 74\n",
    "\n",
    "df"
   ]
  },
  {
   "cell_type": "code",
   "execution_count": 177,
   "metadata": {},
   "outputs": [
    {
     "data": {
      "text/plain": [
       "0    False\n",
       "1    False\n",
       "2    False\n",
       "3    False\n",
       "4    False\n",
       "dtype: bool"
      ]
     },
     "execution_count": 177,
     "metadata": {},
     "output_type": "execute_result"
    }
   ],
   "source": [
    "df.duplicated()"
   ]
  },
  {
   "cell_type": "code",
   "execution_count": 185,
   "metadata": {},
   "outputs": [
    {
     "data": {
      "text/html": [
       "<div>\n",
       "<style scoped>\n",
       "    .dataframe tbody tr th:only-of-type {\n",
       "        vertical-align: middle;\n",
       "    }\n",
       "\n",
       "    .dataframe tbody tr th {\n",
       "        vertical-align: top;\n",
       "    }\n",
       "\n",
       "    .dataframe thead th {\n",
       "        text-align: right;\n",
       "    }\n",
       "</style>\n",
       "<table border=\"1\" class=\"dataframe\">\n",
       "  <thead>\n",
       "    <tr style=\"text-align: right;\">\n",
       "      <th></th>\n",
       "      <th>Nombre</th>\n",
       "      <th>Edad</th>\n",
       "      <th>Fecha</th>\n",
       "      <th>Género</th>\n",
       "      <th>Ciudad</th>\n",
       "      <th>Altura</th>\n",
       "      <th>Peso</th>\n",
       "      <th>Ingresos</th>\n",
       "    </tr>\n",
       "  </thead>\n",
       "  <tbody>\n",
       "    <tr>\n",
       "      <th>0</th>\n",
       "      <td>Juan</td>\n",
       "      <td>25.0</td>\n",
       "      <td>31/01/2020</td>\n",
       "      <td>M</td>\n",
       "      <td>Madrid</td>\n",
       "      <td>175</td>\n",
       "      <td>70.0</td>\n",
       "      <td>50000.0</td>\n",
       "    </tr>\n",
       "    <tr>\n",
       "      <th>1</th>\n",
       "      <td>María</td>\n",
       "      <td>32.0</td>\n",
       "      <td>31/01/2020</td>\n",
       "      <td>F</td>\n",
       "      <td>None</td>\n",
       "      <td>163</td>\n",
       "      <td>NaN</td>\n",
       "      <td>60000.0</td>\n",
       "    </tr>\n",
       "    <tr>\n",
       "      <th>2</th>\n",
       "      <td>Pedro</td>\n",
       "      <td>NaN</td>\n",
       "      <td>None</td>\n",
       "      <td>None</td>\n",
       "      <td>Madrid</td>\n",
       "      <td>180</td>\n",
       "      <td>80.0</td>\n",
       "      <td>40000.0</td>\n",
       "    </tr>\n",
       "    <tr>\n",
       "      <th>3</th>\n",
       "      <td>Ana</td>\n",
       "      <td>42.0</td>\n",
       "      <td>31/01/2020</td>\n",
       "      <td>F</td>\n",
       "      <td>Valencia</td>\n",
       "      <td>158</td>\n",
       "      <td>60.0</td>\n",
       "      <td>NaN</td>\n",
       "    </tr>\n",
       "  </tbody>\n",
       "</table>\n",
       "</div>"
      ],
      "text/plain": [
       "  Nombre  Edad       Fecha Género    Ciudad  Altura  Peso  Ingresos\n",
       "0   Juan  25.0  31/01/2020      M    Madrid     175  70.0   50000.0\n",
       "1  María  32.0  31/01/2020      F      None     163   NaN   60000.0\n",
       "2  Pedro   NaN        None   None    Madrid     180  80.0   40000.0\n",
       "3    Ana  42.0  31/01/2020      F  Valencia     158  60.0       NaN"
      ]
     },
     "execution_count": 185,
     "metadata": {},
     "output_type": "execute_result"
    }
   ],
   "source": [
    "df.drop_duplicates(inplace = True)\n",
    "df"
   ]
  },
  {
   "cell_type": "code",
   "execution_count": 186,
   "metadata": {},
   "outputs": [],
   "source": [
    "#df.corr() para buscar relaciones entre los datos "
   ]
  },
  {
   "cell_type": "markdown",
   "metadata": {},
   "source": [
    "## Ejercicio"
   ]
  },
  {
   "cell_type": "markdown",
   "metadata": {},
   "source": [
    "#### Limpiar el siguiente dataset \n",
    " data = {\n",
    "    'Nombre': ['Juan', 'María', 'Pedro', 'Ana', 'Luis'],\n",
    "    'Edad': [25, 32, None, 42, 28],\n",
    "    'Fecha': ['31/01/2020', '31/01/2020', None, '31/01/2020', '01/31/2020'],\n",
    "    'Género': ['M', 'F', None, 'F', 'M'],\n",
    "    'Ciudad': ['Madrid', None, 'Madrid', 'Valencia', 'Barcelona'],\n",
    "    'Altura': [175, 163, 180, 158, 170],\n",
    "    'Peso': [70, None, 80, 60, 75],\n",
    "    'Ingresos': [50000, 60000, 40000, None, 55000]\n",
    " }"
   ]
  },
  {
   "cell_type": "code",
   "execution_count": 192,
   "metadata": {},
   "outputs": [
    {
     "name": "stdout",
     "output_type": "stream",
     "text": [
      "  Nombre  Edad       Fecha Género     Ciudad  Altura  Peso  Ingresos\n",
      "0   Juan  25.0  31/01/2020      M     Madrid     175  70.0   50000.0\n",
      "1  María  32.0  31/01/2020      F       None     163   NaN   60000.0\n",
      "2  Pedro   NaN        None   None     Madrid     180  80.0   40000.0\n",
      "3    Ana  42.0  31/01/2020      F   Valencia     158  60.0       NaN\n",
      "4   Luis  28.0  01/31/2020      M  Barcelona     170  75.0   55000.0\n"
     ]
    }
   ],
   "source": [
    "#Importar el dataset y volverlo un dataframe\n",
    "\n",
    "data = {\n",
    "    'Nombre': ['Juan', 'María', 'Pedro', 'Ana', 'Luis'],\n",
    "    'Edad': [25, 32, None, 42, 28],\n",
    "    'Fecha': ['31/01/2020', '31/01/2020', None, '31/01/2020', '01/31/2020'],\n",
    "    'Género': ['M', 'F', None, 'F', 'M'],\n",
    "    'Ciudad': ['Madrid', None, 'Madrid', 'Valencia', 'Barcelona'],\n",
    "    'Altura': [175, 163, 180, 158, 170],\n",
    "    'Peso': [70, None, 80, 60, 75],\n",
    "    'Ingresos': [50000, 60000, 40000, None, 55000]\n",
    "}\n",
    "\n",
    "dataf = pd.DataFrame(data)\n",
    "print(df)"
   ]
  },
  {
   "cell_type": "code",
   "execution_count": 193,
   "metadata": {},
   "outputs": [
    {
     "name": "stdout",
     "output_type": "stream",
     "text": [
      "  Nombre   Edad       Fecha Género     Ciudad  Altura   Peso  Ingresos\n",
      "0   Juan  25.00  31/01/2020      M     Madrid     175  70.00   50000.0\n",
      "1  María  32.00  31/01/2020      F       None     163  71.25   60000.0\n",
      "2  Pedro  31.75        None   None     Madrid     180  80.00   40000.0\n",
      "3    Ana  42.00  31/01/2020      F   Valencia     158  60.00       NaN\n",
      "4   Luis  28.00  01/31/2020      M  Barcelona     170  75.00   55000.0\n"
     ]
    }
   ],
   "source": [
    "df = dataf\n",
    "promedio = df['Edad'].mean()\n",
    "df['Edad'].fillna(promedio, inplace = True)\n",
    "\n",
    "promedio2 = df['Peso'].mean()\n",
    "df['Peso'].fillna(promedio2, inplace = True)\n",
    "\n",
    "promedio3 = df['Ingresos'].mean()\n",
    "df['Edad'].fillna(promedio3, inplace = True)\n",
    "\n",
    "print(df)"
   ]
  },
  {
   "cell_type": "code",
   "execution_count": 197,
   "metadata": {},
   "outputs": [
    {
     "name": "stdout",
     "output_type": "stream",
     "text": [
      "  Nombre   Edad       Fecha Género     Ciudad  Altura   Peso Ingresos\n",
      "0   Juan  25.00  31/01/2020      M     Madrid     175  70.00  50000.0\n",
      "1  María  32.00  31/01/2020      F         SR     163  71.25  60000.0\n",
      "2  Pedro  31.75          SR     SR     Madrid     180  80.00  40000.0\n",
      "3    Ana  42.00  31/01/2020      F   Valencia     158  60.00       SR\n",
      "4   Luis  28.00  01/31/2020      M  Barcelona     170  75.00  55000.0\n"
     ]
    }
   ],
   "source": [
    "df.fillna('SR', inplace=True)\n",
    "\n",
    "print(df)"
   ]
  },
  {
   "cell_type": "code",
   "execution_count": null,
   "metadata": {},
   "outputs": [],
   "source": []
  }
 ],
 "metadata": {
  "kernelspec": {
   "display_name": ".env",
   "language": "python",
   "name": "python3"
  },
  "language_info": {
   "codemirror_mode": {
    "name": "ipython",
    "version": 3
   },
   "file_extension": ".py",
   "mimetype": "text/x-python",
   "name": "python",
   "nbconvert_exporter": "python",
   "pygments_lexer": "ipython3",
   "version": "3.11.4"
  },
  "orig_nbformat": 4
 },
 "nbformat": 4,
 "nbformat_minor": 2
}
