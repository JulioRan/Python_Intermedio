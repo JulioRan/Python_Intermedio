{
 "cells": [
  {
   "cell_type": "markdown",
   "metadata": {},
   "source": [
    "# Ejercicio Cyberpuerta\n",
    "### \n",
    "1. Entrar a la página https://www.cyberpuerta.mx/ y buscar una categoría\n",
    "2. Realizar las peticiones HTTP pertinentes para obtener el código de la fuente de la página\n",
    "3. Analizar las páginas web para identificar los elementos relevantes\n",
    "4. Extraer los datos relevantes de las páginas web\n",
    "5. Generar un dataFrame con los datos obtenidos\n",
    "6. Generar una gráfica para visualizar los datos"
   ]
  },
  {
   "cell_type": "code",
   "execution_count": null,
   "metadata": {},
   "outputs": [],
   "source": []
  }
 ],
 "metadata": {
  "language_info": {
   "name": "python"
  },
  "orig_nbformat": 4
 },
 "nbformat": 4,
 "nbformat_minor": 2
}
